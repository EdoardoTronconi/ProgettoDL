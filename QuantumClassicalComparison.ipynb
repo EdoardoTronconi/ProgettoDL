{
 "cells": [
  {
   "cell_type": "code",
   "execution_count": 3,
   "id": "a6156b53-08bd-415c-b7f9-d2213db96f78",
   "metadata": {},
   "outputs": [],
   "source": [
    "import numpy as np\n",
    "import pandas as pd\n",
    "from matplotlib import pyplot as plt\n",
    "import seaborn as sns\n",
    "from pickle import dump, load"
   ]
  },
  {
   "cell_type": "code",
   "execution_count": 38,
   "id": "7f5dcd51-d503-4de7-93b8-e446d21d11a6",
   "metadata": {},
   "outputs": [
    {
     "data": {
      "text/html": [
       "<div>\n",
       "<style scoped>\n",
       "    .dataframe tbody tr th:only-of-type {\n",
       "        vertical-align: middle;\n",
       "    }\n",
       "\n",
       "    .dataframe tbody tr th {\n",
       "        vertical-align: top;\n",
       "    }\n",
       "\n",
       "    .dataframe thead tr th {\n",
       "        text-align: left;\n",
       "    }\n",
       "</style>\n",
       "<table border=\"1\" class=\"dataframe\">\n",
       "  <thead>\n",
       "    <tr>\n",
       "      <th></th>\n",
       "      <th colspan=\"2\" halign=\"left\">QUANTUM</th>\n",
       "      <th colspan=\"2\" halign=\"left\">CLASSICAL</th>\n",
       "      <th colspan=\"2\" halign=\"left\">QUANTUM/CLASSICAL</th>\n",
       "    </tr>\n",
       "    <tr>\n",
       "      <th></th>\n",
       "      <th>Num of Parameters</th>\n",
       "      <th>Test Loss</th>\n",
       "      <th>Num of Parameters</th>\n",
       "      <th>Test Loss</th>\n",
       "      <th>Num of Parameters</th>\n",
       "      <th>Test Loss</th>\n",
       "    </tr>\n",
       "  </thead>\n",
       "  <tbody>\n",
       "    <tr>\n",
       "      <th>Test</th>\n",
       "      <td>78</td>\n",
       "      <td>0.000004</td>\n",
       "      <td>6781</td>\n",
       "      <td>0.000021</td>\n",
       "      <td>0.011503</td>\n",
       "      <td>0.177181</td>\n",
       "    </tr>\n",
       "    <tr>\n",
       "      <th>CO2 1var</th>\n",
       "      <td>45</td>\n",
       "      <td>0.00053</td>\n",
       "      <td>61381</td>\n",
       "      <td>0.000555</td>\n",
       "      <td>0.000733</td>\n",
       "      <td>0.955999</td>\n",
       "    </tr>\n",
       "    <tr>\n",
       "      <th>CO2 2var</th>\n",
       "      <td>NaN</td>\n",
       "      <td>NaN</td>\n",
       "      <td>964321</td>\n",
       "      <td>0.000036</td>\n",
       "      <td>NaN</td>\n",
       "      <td>NaN</td>\n",
       "    </tr>\n",
       "    <tr>\n",
       "      <th>Housing</th>\n",
       "      <td>NaN</td>\n",
       "      <td>NaN</td>\n",
       "      <td>1855451</td>\n",
       "      <td>0.013125</td>\n",
       "      <td>NaN</td>\n",
       "      <td>NaN</td>\n",
       "    </tr>\n",
       "    <tr>\n",
       "      <th>Cars</th>\n",
       "      <td>NaN</td>\n",
       "      <td>NaN</td>\n",
       "      <td>4361</td>\n",
       "      <td>0.007436</td>\n",
       "      <td>NaN</td>\n",
       "      <td>NaN</td>\n",
       "    </tr>\n",
       "  </tbody>\n",
       "</table>\n",
       "</div>"
      ],
      "text/plain": [
       "                   QUANTUM                   CLASSICAL            \\\n",
       "         Num of Parameters Test Loss Num of Parameters Test Loss   \n",
       "Test                    78  0.000004              6781  0.000021   \n",
       "CO2 1var                45   0.00053             61381  0.000555   \n",
       "CO2 2var               NaN       NaN            964321  0.000036   \n",
       "Housing                NaN       NaN           1855451  0.013125   \n",
       "Cars                   NaN       NaN              4361  0.007436   \n",
       "\n",
       "         QUANTUM/CLASSICAL            \n",
       "         Num of Parameters Test Loss  \n",
       "Test              0.011503  0.177181  \n",
       "CO2 1var          0.000733  0.955999  \n",
       "CO2 2var               NaN       NaN  \n",
       "Housing                NaN       NaN  \n",
       "Cars                   NaN       NaN  "
      ]
     },
     "execution_count": 38,
     "metadata": {},
     "output_type": "execute_result"
    }
   ],
   "source": [
    "recapDF = load(open(\"Variables/recapDF\", \"rb\"))\n",
    "recapDF"
   ]
  },
  {
   "cell_type": "code",
   "execution_count": 52,
   "id": "f4f132f5-1822-4958-9673-0f7a09f7c191",
   "metadata": {},
   "outputs": [],
   "source": [
    "dataset = \"CO2 2var\"\n",
    "\n",
    "recapDF.loc[dataset,(\"QUANTUM\", \"Test Loss\")] = 3.859022993349145e-05\n",
    "recapDF.loc[dataset,(\"QUANTUM\", \"Num of Parameters\")] = 144"
   ]
  },
  {
   "cell_type": "code",
   "execution_count": 56,
   "id": "3cc5c240-58d8-4bdb-a93d-ca1ef404f334",
   "metadata": {},
   "outputs": [],
   "source": [
    "recapDF[(\"QUANTUM/CLASSICAL\", \"Num of Parameters\")] = np.nan\n",
    "recapDF[(\"QUANTUM/CLASSICAL\", \"Test Loss\")] = np.nan\n",
    "\n",
    "recapDF.loc[:,(\"QUANTUM/CLASSICAL\", slice(None))] = (recapDF.loc[:,(\"QUANTUM\", slice(None))].values / recapDF.loc[:,(\"CLASSICAL\", slice(None))].values - 1) * 100"
   ]
  },
  {
   "cell_type": "code",
   "execution_count": 57,
   "id": "3affa0b6-b853-4e96-a09e-606b92f69da1",
   "metadata": {},
   "outputs": [
    {
     "data": {
      "text/html": [
       "<div>\n",
       "<style scoped>\n",
       "    .dataframe tbody tr th:only-of-type {\n",
       "        vertical-align: middle;\n",
       "    }\n",
       "\n",
       "    .dataframe tbody tr th {\n",
       "        vertical-align: top;\n",
       "    }\n",
       "\n",
       "    .dataframe thead tr th {\n",
       "        text-align: left;\n",
       "    }\n",
       "</style>\n",
       "<table border=\"1\" class=\"dataframe\">\n",
       "  <thead>\n",
       "    <tr>\n",
       "      <th></th>\n",
       "      <th colspan=\"2\" halign=\"left\">QUANTUM</th>\n",
       "      <th colspan=\"2\" halign=\"left\">CLASSICAL</th>\n",
       "      <th colspan=\"2\" halign=\"left\">QUANTUM/CLASSICAL</th>\n",
       "    </tr>\n",
       "    <tr>\n",
       "      <th></th>\n",
       "      <th>Num of Parameters</th>\n",
       "      <th>Test Loss</th>\n",
       "      <th>Num of Parameters</th>\n",
       "      <th>Test Loss</th>\n",
       "      <th>Num of Parameters</th>\n",
       "      <th>Test Loss</th>\n",
       "    </tr>\n",
       "  </thead>\n",
       "  <tbody>\n",
       "    <tr>\n",
       "      <th>Test</th>\n",
       "      <td>78</td>\n",
       "      <td>0.000004</td>\n",
       "      <td>6781</td>\n",
       "      <td>0.000021</td>\n",
       "      <td>-98.849727</td>\n",
       "      <td>-82.281912</td>\n",
       "    </tr>\n",
       "    <tr>\n",
       "      <th>CO2 1var</th>\n",
       "      <td>45</td>\n",
       "      <td>0.00053</td>\n",
       "      <td>61381</td>\n",
       "      <td>0.000555</td>\n",
       "      <td>-99.926687</td>\n",
       "      <td>-4.400129</td>\n",
       "    </tr>\n",
       "    <tr>\n",
       "      <th>CO2 2var</th>\n",
       "      <td>144</td>\n",
       "      <td>0.000039</td>\n",
       "      <td>964321</td>\n",
       "      <td>0.000036</td>\n",
       "      <td>-99.985067</td>\n",
       "      <td>7.611372</td>\n",
       "    </tr>\n",
       "    <tr>\n",
       "      <th>Housing</th>\n",
       "      <td>NaN</td>\n",
       "      <td>NaN</td>\n",
       "      <td>1855451</td>\n",
       "      <td>0.013125</td>\n",
       "      <td>NaN</td>\n",
       "      <td>NaN</td>\n",
       "    </tr>\n",
       "    <tr>\n",
       "      <th>Cars</th>\n",
       "      <td>NaN</td>\n",
       "      <td>NaN</td>\n",
       "      <td>4361</td>\n",
       "      <td>0.007436</td>\n",
       "      <td>NaN</td>\n",
       "      <td>NaN</td>\n",
       "    </tr>\n",
       "  </tbody>\n",
       "</table>\n",
       "</div>"
      ],
      "text/plain": [
       "                   QUANTUM                   CLASSICAL            \\\n",
       "         Num of Parameters Test Loss Num of Parameters Test Loss   \n",
       "Test                    78  0.000004              6781  0.000021   \n",
       "CO2 1var                45   0.00053             61381  0.000555   \n",
       "CO2 2var               144  0.000039            964321  0.000036   \n",
       "Housing                NaN       NaN           1855451  0.013125   \n",
       "Cars                   NaN       NaN              4361  0.007436   \n",
       "\n",
       "         QUANTUM/CLASSICAL             \n",
       "         Num of Parameters  Test Loss  \n",
       "Test            -98.849727 -82.281912  \n",
       "CO2 1var        -99.926687  -4.400129  \n",
       "CO2 2var        -99.985067   7.611372  \n",
       "Housing                NaN        NaN  \n",
       "Cars                   NaN        NaN  "
      ]
     },
     "execution_count": 57,
     "metadata": {},
     "output_type": "execute_result"
    }
   ],
   "source": [
    "recapDF"
   ]
  },
  {
   "cell_type": "code",
   "execution_count": 58,
   "id": "46822266-7ea4-42be-92f3-36bbeb2a09b7",
   "metadata": {},
   "outputs": [],
   "source": [
    "dump(recapDF, open(\"Variables/recapDF\", \"wb\"))"
   ]
  },
  {
   "cell_type": "code",
   "execution_count": 59,
   "id": "57b84599-42d6-4b8a-b4f7-c5edb02166f9",
   "metadata": {},
   "outputs": [
    {
     "name": "stdout",
     "output_type": "stream",
     "text": [
      "\\begin{tabular}{llllll}\n",
      " & Test & CO2 1var & CO2 2var & Housing & Cars \\\\\n",
      "CLASSICAL & 0.000021 & 0.000555 & 0.000036 & 0.013125 & 0.007436 \\\\\n",
      "QUANTUM & 0.000004 & 0.000530 & 0.000039 & nan & nan \\\\\n",
      "QUANTUM/CLASSICAL & -82.281912 & -4.400129 & 7.611372 & nan & nan \\\\\n",
      "\\end{tabular}\n",
      "\n"
     ]
    }
   ],
   "source": [
    "print(recapDF.swaplevel(0,1, axis=1).sort_index(axis=1).T.loc[\"Test Loss\"].style.to_latex())"
   ]
  },
  {
   "cell_type": "code",
   "execution_count": 60,
   "id": "16c14b06-e9c9-492e-b76c-be1cf5efd875",
   "metadata": {},
   "outputs": [
    {
     "name": "stdout",
     "output_type": "stream",
     "text": [
      "\\begin{tabular}{llllll}\n",
      " & Test & CO2 1var & CO2 2var & Housing & Cars \\\\\n",
      "CLASSICAL & 6781 & 61381 & 964321 & 1855451 & 4361 \\\\\n",
      "QUANTUM & 78 & 45 & 144 & nan & nan \\\\\n",
      "QUANTUM/CLASSICAL & -98.849727 & -99.926687 & -99.985067 & nan & nan \\\\\n",
      "\\end{tabular}\n",
      "\n"
     ]
    }
   ],
   "source": [
    "print(recapDF.swaplevel(0,1, axis=1).sort_index(axis=1).T.loc[\"Num of Parameters\"].style.to_latex())"
   ]
  },
  {
   "cell_type": "code",
   "execution_count": 31,
   "id": "c19c7366-b449-40b7-a289-6e796eb6f83b",
   "metadata": {},
   "outputs": [
    {
     "name": "stdout",
     "output_type": "stream",
     "text": [
      "\\begin{tabular}{lllllll}\n",
      " &  & Test & CO2 1var & CO2 2var & Housing & Cars \\\\\n",
      "\\multirow[c]{2}{*}{QUANTUM} & Num of Parameters & 78 & 45 & nan & nan & nan \\\\\n",
      " & Test Loss & 0.000004 & 0.000530 & nan & nan & nan \\\\\n",
      "\\multirow[c]{2}{*}{CLASSICAL} & Num of Parameters & 6781 & 61381 & 964321 & 1855451 & 4361 \\\\\n",
      " & Test Loss & 0.000021 & 0.000555 & 0.000036 & 0.013125 & 0.007436 \\\\\n",
      "\\multirow[c]{2}{*}{QUANTUM/CLASSICAL} & Num of Parameters & 0.011503 & 0.000733 & nan & nan & nan \\\\\n",
      " & Test Loss & 0.177181 & 0.955999 & nan & nan & nan \\\\\n",
      "\\end{tabular}\n",
      "\n"
     ]
    }
   ],
   "source": [
    "print(recapDF.T.style.to_latex())"
   ]
  },
  {
   "cell_type": "code",
   "execution_count": null,
   "id": "2e3543c7-4d71-40cd-9c34-39c4d6810104",
   "metadata": {},
   "outputs": [],
   "source": []
  }
 ],
 "metadata": {
  "kernelspec": {
   "display_name": "Python 3 (ipykernel)",
   "language": "python",
   "name": "python3"
  },
  "language_info": {
   "codemirror_mode": {
    "name": "ipython",
    "version": 3
   },
   "file_extension": ".py",
   "mimetype": "text/x-python",
   "name": "python",
   "nbconvert_exporter": "python",
   "pygments_lexer": "ipython3",
   "version": "3.8.13"
  }
 },
 "nbformat": 4,
 "nbformat_minor": 5
}
